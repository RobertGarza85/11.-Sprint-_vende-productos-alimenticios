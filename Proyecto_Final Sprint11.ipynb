{
 "cells": [
  {
   "cell_type": "markdown",
   "metadata": {},
   "source": [
    "Hola **Roberto**!\n",
    "\n",
    "Soy **Patricio Requena** 👋. Es un placer ser el revisor de tu proyecto el día de hoy!\n",
    "\n",
    "Revisaré tu proyecto detenidamente con el objetivo de ayudarte a mejorar y perfeccionar tus habilidades. Durante mi revisión, identificaré áreas donde puedas hacer mejoras en tu código, señalando específicamente qué y cómo podrías ajustar para optimizar el rendimiento y la claridad de tu proyecto. Además, es importante para mí destacar los aspectos que has manejado excepcionalmente bien. Reconocer tus fortalezas te ayudará a entender qué técnicas y métodos están funcionando a tu favor y cómo puedes aplicarlos en futuras tareas. \n",
    "\n",
    "_**Recuerda que al final de este notebook encontrarás un comentario general de mi parte**_, empecemos!\n",
    "\n",
    "Encontrarás mis comentarios dentro de cajas verdes, amarillas o rojas, ⚠️ **por favor, no muevas, modifiques o borres mis comentarios** ⚠️:\n",
    "\n",
    "\n",
    "<div class=\"alert alert-block alert-success\">\n",
    "<b>Comentario del revisor</b> <a class=“tocSkip”></a>\n",
    "Si todo está perfecto.\n",
    "</div>\n",
    "\n",
    "<div class=\"alert alert-block alert-warning\">\n",
    "<b>Comentario del revisor</b> <a class=“tocSkip”></a>\n",
    "Si tu código está bien pero se puede mejorar o hay algún detalle que le hace falta.\n",
    "</div>\n",
    "\n",
    "<div class=\"alert alert-block alert-danger\">\n",
    "<b>Comentario del revisor</b> <a class=“tocSkip”></a>\n",
    "Si de pronto hace falta algo o existe algún problema con tu código o conclusiones.\n",
    "</div>\n",
    "\n",
    "Puedes responderme de esta forma:\n",
    "<div class=\"alert alert-block alert-info\">\n",
    "<b>Respuesta del estudiante</b> <a class=“tocSkip”></a>\n",
    "</div>"
   ]
  },
  {
   "cell_type": "markdown",
   "metadata": {},
   "source": [
    "# Proyecto Sprint 11 \n",
    "Trabajas en una empresa emergente que vende productos alimenticios. Debes investigar el comportamiento del usuario para la aplicación de la empresa.\n",
    "\n",
    "Primero, estudia el embudo de ventas. Descubre cómo los usuarios llegan a la etapa de compra. ¿Cuántos usuarios realmente llegan a esta etapa? ¿Cuántos se atascan en etapas anteriores? ¿Qué etapas en particular?\n",
    "Luego, observa los resultados de un test A/A/B (sigue leyendo para obtener más información sobre los test A/A/B). Al equipo de diseño le gustaría cambiar las fuentes de toda la aplicación, pero la gerencia teme que los usuarios piensen que el nuevo diseño es intimidante. Por ello, deciden tomar una decisión basada en los resultados de un test A/A/B."
   ]
  },
  {
   "cell_type": "code",
   "execution_count": 111,
   "metadata": {},
   "outputs": [],
   "source": [
    "import pandas as pd\n",
    "import numpy as np\n",
    "import matplotlib.pyplot as plt\n",
    "import seaborn as sns\n",
    "from scipy import stats\n",
    "from statsmodels.stats.proportion import proportions_ztest\n",
    "from datetime import timedelta\n",
    "sns.set_style('whitegrid')\n",
    "np.random.seed(42)\n",
    "from statsmodels.stats.proportion import proportions_ztest\n",
    "def proportion_test(success_a, total_a, success_b, total_b, alpha=0.05):\n",
    "    stat, p = proportions_ztest([success_a, success_b], [total_a, total_b])\n",
    "    return p < alpha, p"
   ]
  },
  {
   "cell_type": "code",
   "execution_count": 112,
   "metadata": {},
   "outputs": [],
   "source": [
    "# Cargar el archivo CSV separado por espacio\n",
    "ruta_archivo = \"/datasets/logs_exp_us.csv\"\n",
    "df = pd.read_csv(ruta_archivo,sep='\\t' )"
   ]
  },
  {
   "cell_type": "code",
   "execution_count": 113,
   "metadata": {},
   "outputs": [
    {
     "data": {
      "text/html": [
       "<div>\n",
       "<style scoped>\n",
       "    .dataframe tbody tr th:only-of-type {\n",
       "        vertical-align: middle;\n",
       "    }\n",
       "\n",
       "    .dataframe tbody tr th {\n",
       "        vertical-align: top;\n",
       "    }\n",
       "\n",
       "    .dataframe thead th {\n",
       "        text-align: right;\n",
       "    }\n",
       "</style>\n",
       "<table border=\"1\" class=\"dataframe\">\n",
       "  <thead>\n",
       "    <tr style=\"text-align: right;\">\n",
       "      <th></th>\n",
       "      <th>EventName</th>\n",
       "      <th>DeviceIDHash</th>\n",
       "      <th>EventTimestamp</th>\n",
       "      <th>ExpId</th>\n",
       "    </tr>\n",
       "  </thead>\n",
       "  <tbody>\n",
       "    <tr>\n",
       "      <th>0</th>\n",
       "      <td>MainScreenAppear</td>\n",
       "      <td>4575588528974610257</td>\n",
       "      <td>1564029816</td>\n",
       "      <td>246</td>\n",
       "    </tr>\n",
       "    <tr>\n",
       "      <th>1</th>\n",
       "      <td>MainScreenAppear</td>\n",
       "      <td>7416695313311560658</td>\n",
       "      <td>1564053102</td>\n",
       "      <td>246</td>\n",
       "    </tr>\n",
       "    <tr>\n",
       "      <th>2</th>\n",
       "      <td>PaymentScreenSuccessful</td>\n",
       "      <td>3518123091307005509</td>\n",
       "      <td>1564054127</td>\n",
       "      <td>248</td>\n",
       "    </tr>\n",
       "    <tr>\n",
       "      <th>3</th>\n",
       "      <td>CartScreenAppear</td>\n",
       "      <td>3518123091307005509</td>\n",
       "      <td>1564054127</td>\n",
       "      <td>248</td>\n",
       "    </tr>\n",
       "    <tr>\n",
       "      <th>4</th>\n",
       "      <td>PaymentScreenSuccessful</td>\n",
       "      <td>6217807653094995999</td>\n",
       "      <td>1564055322</td>\n",
       "      <td>248</td>\n",
       "    </tr>\n",
       "  </tbody>\n",
       "</table>\n",
       "</div>"
      ],
      "text/plain": [
       "                 EventName         DeviceIDHash  EventTimestamp  ExpId\n",
       "0         MainScreenAppear  4575588528974610257      1564029816    246\n",
       "1         MainScreenAppear  7416695313311560658      1564053102    246\n",
       "2  PaymentScreenSuccessful  3518123091307005509      1564054127    248\n",
       "3         CartScreenAppear  3518123091307005509      1564054127    248\n",
       "4  PaymentScreenSuccessful  6217807653094995999      1564055322    248"
      ]
     },
     "execution_count": 113,
     "metadata": {},
     "output_type": "execute_result"
    }
   ],
   "source": [
    "df.head() "
   ]
  },
  {
   "cell_type": "markdown",
   "metadata": {},
   "source": [
    "## Paso 2. Preparar los datos para el análisis \n",
    "Cambia el nombre de las columnas de manera que sea conveniente para ti."
   ]
  },
  {
   "cell_type": "code",
   "execution_count": 114,
   "metadata": {},
   "outputs": [
    {
     "name": "stdout",
     "output_type": "stream",
     "text": [
      "Eventos totales: 244,126\n",
      "Usuarios únicos: 7,551\n"
     ]
    }
   ],
   "source": [
    "print(f\"Eventos totales: {len(df):,}\")\n",
    "print(f\"Usuarios únicos: {df['DeviceIDHash'].nunique():,}\")"
   ]
  },
  {
   "cell_type": "code",
   "execution_count": 115,
   "metadata": {},
   "outputs": [],
   "source": [
    "#  Renombrado\n",
    "df = df.rename(columns={'EventName':'event',\n",
    "                        'DeviceIDHash':'user_id',\n",
    "                        'EventTimestamp':'timestamp',\n",
    "                        'ExpId':'exp_id'})"
   ]
  },
  {
   "cell_type": "code",
   "execution_count": 116,
   "metadata": {},
   "outputs": [
    {
     "data": {
      "text/html": [
       "<div>\n",
       "<style scoped>\n",
       "    .dataframe tbody tr th:only-of-type {\n",
       "        vertical-align: middle;\n",
       "    }\n",
       "\n",
       "    .dataframe tbody tr th {\n",
       "        vertical-align: top;\n",
       "    }\n",
       "\n",
       "    .dataframe thead th {\n",
       "        text-align: right;\n",
       "    }\n",
       "</style>\n",
       "<table border=\"1\" class=\"dataframe\">\n",
       "  <thead>\n",
       "    <tr style=\"text-align: right;\">\n",
       "      <th></th>\n",
       "      <th>event</th>\n",
       "      <th>user_id</th>\n",
       "      <th>timestamp</th>\n",
       "      <th>exp_id</th>\n",
       "    </tr>\n",
       "  </thead>\n",
       "  <tbody>\n",
       "    <tr>\n",
       "      <th>0</th>\n",
       "      <td>MainScreenAppear</td>\n",
       "      <td>4575588528974610257</td>\n",
       "      <td>1564029816</td>\n",
       "      <td>246</td>\n",
       "    </tr>\n",
       "    <tr>\n",
       "      <th>1</th>\n",
       "      <td>MainScreenAppear</td>\n",
       "      <td>7416695313311560658</td>\n",
       "      <td>1564053102</td>\n",
       "      <td>246</td>\n",
       "    </tr>\n",
       "    <tr>\n",
       "      <th>2</th>\n",
       "      <td>PaymentScreenSuccessful</td>\n",
       "      <td>3518123091307005509</td>\n",
       "      <td>1564054127</td>\n",
       "      <td>248</td>\n",
       "    </tr>\n",
       "    <tr>\n",
       "      <th>3</th>\n",
       "      <td>CartScreenAppear</td>\n",
       "      <td>3518123091307005509</td>\n",
       "      <td>1564054127</td>\n",
       "      <td>248</td>\n",
       "    </tr>\n",
       "    <tr>\n",
       "      <th>4</th>\n",
       "      <td>PaymentScreenSuccessful</td>\n",
       "      <td>6217807653094995999</td>\n",
       "      <td>1564055322</td>\n",
       "      <td>248</td>\n",
       "    </tr>\n",
       "  </tbody>\n",
       "</table>\n",
       "</div>"
      ],
      "text/plain": [
       "                     event              user_id   timestamp  exp_id\n",
       "0         MainScreenAppear  4575588528974610257  1564029816     246\n",
       "1         MainScreenAppear  7416695313311560658  1564053102     246\n",
       "2  PaymentScreenSuccessful  3518123091307005509  1564054127     248\n",
       "3         CartScreenAppear  3518123091307005509  1564054127     248\n",
       "4  PaymentScreenSuccessful  6217807653094995999  1564055322     248"
      ]
     },
     "execution_count": 116,
     "metadata": {},
     "output_type": "execute_result"
    }
   ],
   "source": [
    "df.head()"
   ]
  },
  {
   "cell_type": "markdown",
   "metadata": {},
   "source": [
    "Comprueba los tipos de datos y valores ausentes. Corrige los datos si es necesario."
   ]
  },
  {
   "cell_type": "code",
   "execution_count": 117,
   "metadata": {},
   "outputs": [
    {
     "name": "stdout",
     "output_type": "stream",
     "text": [
      "<class 'pandas.core.frame.DataFrame'>\n",
      "RangeIndex: 244126 entries, 0 to 244125\n",
      "Data columns (total 4 columns):\n",
      " #   Column     Non-Null Count   Dtype \n",
      "---  ------     --------------   ----- \n",
      " 0   event      244126 non-null  object\n",
      " 1   user_id    244126 non-null  int64 \n",
      " 2   timestamp  244126 non-null  int64 \n",
      " 3   exp_id     244126 non-null  int64 \n",
      "dtypes: int64(3), object(1)\n",
      "memory usage: 7.5+ MB\n",
      "None\n",
      "Valores ausentes:\n",
      " event        0\n",
      "user_id      0\n",
      "timestamp    0\n",
      "exp_id       0\n",
      "dtype: int64\n"
     ]
    }
   ],
   "source": [
    "# Verificar valores ausentes y tipos de datos\n",
    "print(df.info())\n",
    "print(\"Valores ausentes:\\n\", df.isnull().sum())"
   ]
  },
  {
   "cell_type": "markdown",
   "metadata": {},
   "source": [
    "Agrega una columna de fecha y hora y una columna separada para las fechas."
   ]
  },
  {
   "cell_type": "code",
   "execution_count": 118,
   "metadata": {},
   "outputs": [],
   "source": [
    "#Conversión de tiempo\n",
    "df['event_dt'] = pd.to_datetime(df['timestamp'], unit='s')\n",
    "df['event_date'] = df['event_dt'].dt.date"
   ]
  },
  {
   "cell_type": "code",
   "execution_count": 119,
   "metadata": {},
   "outputs": [
    {
     "data": {
      "text/html": [
       "<div>\n",
       "<style scoped>\n",
       "    .dataframe tbody tr th:only-of-type {\n",
       "        vertical-align: middle;\n",
       "    }\n",
       "\n",
       "    .dataframe tbody tr th {\n",
       "        vertical-align: top;\n",
       "    }\n",
       "\n",
       "    .dataframe thead th {\n",
       "        text-align: right;\n",
       "    }\n",
       "</style>\n",
       "<table border=\"1\" class=\"dataframe\">\n",
       "  <thead>\n",
       "    <tr style=\"text-align: right;\">\n",
       "      <th></th>\n",
       "      <th>event</th>\n",
       "      <th>user_id</th>\n",
       "      <th>timestamp</th>\n",
       "      <th>exp_id</th>\n",
       "      <th>event_dt</th>\n",
       "      <th>event_date</th>\n",
       "    </tr>\n",
       "  </thead>\n",
       "  <tbody>\n",
       "    <tr>\n",
       "      <th>0</th>\n",
       "      <td>MainScreenAppear</td>\n",
       "      <td>4575588528974610257</td>\n",
       "      <td>1564029816</td>\n",
       "      <td>246</td>\n",
       "      <td>2019-07-25 04:43:36</td>\n",
       "      <td>2019-07-25</td>\n",
       "    </tr>\n",
       "    <tr>\n",
       "      <th>1</th>\n",
       "      <td>MainScreenAppear</td>\n",
       "      <td>7416695313311560658</td>\n",
       "      <td>1564053102</td>\n",
       "      <td>246</td>\n",
       "      <td>2019-07-25 11:11:42</td>\n",
       "      <td>2019-07-25</td>\n",
       "    </tr>\n",
       "    <tr>\n",
       "      <th>2</th>\n",
       "      <td>PaymentScreenSuccessful</td>\n",
       "      <td>3518123091307005509</td>\n",
       "      <td>1564054127</td>\n",
       "      <td>248</td>\n",
       "      <td>2019-07-25 11:28:47</td>\n",
       "      <td>2019-07-25</td>\n",
       "    </tr>\n",
       "    <tr>\n",
       "      <th>3</th>\n",
       "      <td>CartScreenAppear</td>\n",
       "      <td>3518123091307005509</td>\n",
       "      <td>1564054127</td>\n",
       "      <td>248</td>\n",
       "      <td>2019-07-25 11:28:47</td>\n",
       "      <td>2019-07-25</td>\n",
       "    </tr>\n",
       "    <tr>\n",
       "      <th>4</th>\n",
       "      <td>PaymentScreenSuccessful</td>\n",
       "      <td>6217807653094995999</td>\n",
       "      <td>1564055322</td>\n",
       "      <td>248</td>\n",
       "      <td>2019-07-25 11:48:42</td>\n",
       "      <td>2019-07-25</td>\n",
       "    </tr>\n",
       "  </tbody>\n",
       "</table>\n",
       "</div>"
      ],
      "text/plain": [
       "                     event              user_id   timestamp  exp_id  \\\n",
       "0         MainScreenAppear  4575588528974610257  1564029816     246   \n",
       "1         MainScreenAppear  7416695313311560658  1564053102     246   \n",
       "2  PaymentScreenSuccessful  3518123091307005509  1564054127     248   \n",
       "3         CartScreenAppear  3518123091307005509  1564054127     248   \n",
       "4  PaymentScreenSuccessful  6217807653094995999  1564055322     248   \n",
       "\n",
       "             event_dt  event_date  \n",
       "0 2019-07-25 04:43:36  2019-07-25  \n",
       "1 2019-07-25 11:11:42  2019-07-25  \n",
       "2 2019-07-25 11:28:47  2019-07-25  \n",
       "3 2019-07-25 11:28:47  2019-07-25  \n",
       "4 2019-07-25 11:48:42  2019-07-25  "
      ]
     },
     "execution_count": 119,
     "metadata": {},
     "output_type": "execute_result"
    }
   ],
   "source": [
    "df.head()"
   ]
  },
  {
   "cell_type": "code",
   "execution_count": 120,
   "metadata": {},
   "outputs": [
    {
     "name": "stdout",
     "output_type": "stream",
     "text": [
      "<class 'pandas.core.frame.DataFrame'>\n",
      "RangeIndex: 244126 entries, 0 to 244125\n",
      "Data columns (total 6 columns):\n",
      " #   Column      Non-Null Count   Dtype         \n",
      "---  ------      --------------   -----         \n",
      " 0   event       244126 non-null  object        \n",
      " 1   user_id     244126 non-null  int64         \n",
      " 2   timestamp   244126 non-null  int64         \n",
      " 3   exp_id      244126 non-null  int64         \n",
      " 4   event_dt    244126 non-null  datetime64[ns]\n",
      " 5   event_date  244126 non-null  object        \n",
      "dtypes: datetime64[ns](1), int64(3), object(2)\n",
      "memory usage: 11.2+ MB\n"
     ]
    }
   ],
   "source": [
    "df.info()"
   ]
  },
  {
   "cell_type": "code",
   "execution_count": 121,
   "metadata": {},
   "outputs": [
    {
     "data": {
      "text/html": [
       "<div>\n",
       "<style scoped>\n",
       "    .dataframe tbody tr th:only-of-type {\n",
       "        vertical-align: middle;\n",
       "    }\n",
       "\n",
       "    .dataframe tbody tr th {\n",
       "        vertical-align: top;\n",
       "    }\n",
       "\n",
       "    .dataframe thead th {\n",
       "        text-align: right;\n",
       "    }\n",
       "</style>\n",
       "<table border=\"1\" class=\"dataframe\">\n",
       "  <thead>\n",
       "    <tr style=\"text-align: right;\">\n",
       "      <th></th>\n",
       "      <th>event</th>\n",
       "      <th>user_id</th>\n",
       "      <th>timestamp</th>\n",
       "      <th>exp_id</th>\n",
       "      <th>event_dt</th>\n",
       "      <th>event_date</th>\n",
       "    </tr>\n",
       "  </thead>\n",
       "  <tbody>\n",
       "    <tr>\n",
       "      <th>0</th>\n",
       "      <td>MainScreenAppear</td>\n",
       "      <td>4575588528974610257</td>\n",
       "      <td>1564029816</td>\n",
       "      <td>246</td>\n",
       "      <td>2019-07-25 04:43:36</td>\n",
       "      <td>2019-07-25</td>\n",
       "    </tr>\n",
       "    <tr>\n",
       "      <th>1</th>\n",
       "      <td>MainScreenAppear</td>\n",
       "      <td>7416695313311560658</td>\n",
       "      <td>1564053102</td>\n",
       "      <td>246</td>\n",
       "      <td>2019-07-25 11:11:42</td>\n",
       "      <td>2019-07-25</td>\n",
       "    </tr>\n",
       "    <tr>\n",
       "      <th>2</th>\n",
       "      <td>PaymentScreenSuccessful</td>\n",
       "      <td>3518123091307005509</td>\n",
       "      <td>1564054127</td>\n",
       "      <td>248</td>\n",
       "      <td>2019-07-25 11:28:47</td>\n",
       "      <td>2019-07-25</td>\n",
       "    </tr>\n",
       "    <tr>\n",
       "      <th>3</th>\n",
       "      <td>CartScreenAppear</td>\n",
       "      <td>3518123091307005509</td>\n",
       "      <td>1564054127</td>\n",
       "      <td>248</td>\n",
       "      <td>2019-07-25 11:28:47</td>\n",
       "      <td>2019-07-25</td>\n",
       "    </tr>\n",
       "    <tr>\n",
       "      <th>4</th>\n",
       "      <td>PaymentScreenSuccessful</td>\n",
       "      <td>6217807653094995999</td>\n",
       "      <td>1564055322</td>\n",
       "      <td>248</td>\n",
       "      <td>2019-07-25 11:48:42</td>\n",
       "      <td>2019-07-25</td>\n",
       "    </tr>\n",
       "  </tbody>\n",
       "</table>\n",
       "</div>"
      ],
      "text/plain": [
       "                     event              user_id   timestamp  exp_id  \\\n",
       "0         MainScreenAppear  4575588528974610257  1564029816     246   \n",
       "1         MainScreenAppear  7416695313311560658  1564053102     246   \n",
       "2  PaymentScreenSuccessful  3518123091307005509  1564054127     248   \n",
       "3         CartScreenAppear  3518123091307005509  1564054127     248   \n",
       "4  PaymentScreenSuccessful  6217807653094995999  1564055322     248   \n",
       "\n",
       "             event_dt  event_date  \n",
       "0 2019-07-25 04:43:36  2019-07-25  \n",
       "1 2019-07-25 11:11:42  2019-07-25  \n",
       "2 2019-07-25 11:28:47  2019-07-25  \n",
       "3 2019-07-25 11:28:47  2019-07-25  \n",
       "4 2019-07-25 11:48:42  2019-07-25  "
      ]
     },
     "execution_count": 121,
     "metadata": {},
     "output_type": "execute_result"
    }
   ],
   "source": [
    "df.head()"
   ]
  },
  {
   "cell_type": "markdown",
   "metadata": {},
   "source": [
    "## Paso 3. Estudiar y comprobar los datos\n",
    "¿Cuántos eventos hay en los registros?"
   ]
  },
  {
   "cell_type": "code",
   "execution_count": 122,
   "metadata": {},
   "outputs": [
    {
     "name": "stdout",
     "output_type": "stream",
     "text": [
      "Total de eventos en los registros: 244126\n"
     ]
    }
   ],
   "source": [
    "# Contar el número total de eventos\n",
    "num_eventos = df.shape[0]\n",
    "\n",
    "print(f\"Total de eventos en los registros: {num_eventos}\")"
   ]
  },
  {
   "cell_type": "markdown",
   "metadata": {},
   "source": [
    "¿Cuál es el promedio de eventos por usuario?"
   ]
  },
  {
   "cell_type": "code",
   "execution_count": 123,
   "metadata": {},
   "outputs": [
    {
     "name": "stdout",
     "output_type": "stream",
     "text": [
      "Promedio eventos/usuario: 32.33\n"
     ]
    }
   ],
   "source": [
    "events_per_user = len(df) / df['user_id'].nunique()\n",
    "print(f\"Promedio eventos/usuario: {events_per_user:.2f}\")"
   ]
  },
  {
   "cell_type": "code",
   "execution_count": 124,
   "metadata": {},
   "outputs": [
    {
     "name": "stdout",
     "output_type": "stream",
     "text": [
      "Los datos abarcan desde 2019-07-25 hasta 2019-08-07\n"
     ]
    }
   ],
   "source": [
    "fecha_minima = df['event_date'].min()\n",
    "fecha_maxima = df['event_date'].max()\n",
    "\n",
    "print(f\"Los datos abarcan desde {fecha_minima} hasta {fecha_maxima}\")"
   ]
  },
  {
   "cell_type": "code",
   "execution_count": 125,
   "metadata": {},
   "outputs": [
    {
     "data": {
      "image/png": "[encoded data removed]",
      "text/plain": [
       "<Figure size 640x480 with 1 Axes>"
      ]
     },
     "metadata": {},
     "output_type": "display_data"
    }
   ],
   "source": [
    "df['event_date'].value_counts().sort_index().plot(kind='bar')\n",
    "plt.title('Eventos por fecha')\n",
    "plt.xticks(rotation=45)\n",
    "plt.tight_layout()\n",
    "plt.show()"
   ]
  },
  {
   "cell_type": "markdown",
   "metadata": {},
   "source": [
    "Segun el los datos y el grafico los evento mas fuertes empezaron en el mes de agosto "
   ]
  },
  {
   "cell_type": "code",
   "execution_count": 126,
   "metadata": {},
   "outputs": [
    {
     "name": "stdout",
     "output_type": "stream",
     "text": [
      "Cut‑off: 2019-07-26\n"
     ]
    }
   ],
   "source": [
    "#Desde qué fecha los datos están completos?\n",
    "daily_users = df.groupby('event_date')['user_id'].nunique()\n",
    "cutoff = daily_users[daily_users > daily_users.quantile(0.05)].index.min()\n",
    "print(\"Cut‑off:\", cutoff)"
   ]
  },
  {
   "cell_type": "markdown",
   "metadata": {},
   "source": [
    "¿Perdiste muchos eventos y usuarios al excluir los datos más antiguos?"
   ]
  },
  {
   "cell_type": "code",
   "execution_count": 127,
   "metadata": {},
   "outputs": [
    {
     "name": "stdout",
     "output_type": "stream",
     "text": [
      "Pérdida eventos: 0.0%\n",
      "Pérdida usuarios: 0.0%\n"
     ]
    }
   ],
   "source": [
    "filtered = df[df['event_date'] >= cutoff]\n",
    "print(f\"Pérdida eventos: {(1-len(filtered)/len(df)):.1%}\")\n",
    "print(f\"Pérdida usuarios: {(1-filtered['user_id'].nunique()/df['user_id'].nunique()):.1%}\")"
   ]
  },
  {
   "cell_type": "markdown",
   "metadata": {},
   "source": [
    "<div class=\"alert alert-block alert-success\">\n",
    "<b>Comentario del revisor (1ra Iteracion)</b> <a class=“tocSkip”></a>\n",
    "\n",
    "Correcto, con el filtro aplicado te aseguras que tienes datos consistentes para el análisis y así evitas ruido en las diferentes métricas\n",
    "</div>"
   ]
  },
  {
   "cell_type": "code",
   "execution_count": 128,
   "metadata": {},
   "outputs": [
    {
     "data": {
      "text/plain": [
       "248    85743\n",
       "246    80300\n",
       "247    78074\n",
       "Name: exp_id, dtype: int64"
      ]
     },
     "metadata": {},
     "output_type": "display_data"
    }
   ],
   "source": [
    "#Asegúrate de tener usuarios de los tres grupos experimentales.\n",
    "display(filtered['exp_id'].value_counts())"
   ]
  },
  {
   "cell_type": "markdown",
   "metadata": {},
   "source": [
    "## Paso 4. Estudiar el embudo de eventos"
   ]
  },
  {
   "cell_type": "code",
   "execution_count": 129,
   "metadata": {},
   "outputs": [
    {
     "name": "stdout",
     "output_type": "stream",
     "text": [
      "Frecuencia de eventos en los registros:\n",
      "MainScreenAppear           119205\n",
      "OffersScreenAppear          46825\n",
      "CartScreenAppear            42731\n",
      "PaymentScreenSuccessful     34313\n",
      "Tutorial                     1052\n",
      "Name: event, dtype: int64\n"
     ]
    }
   ],
   "source": [
    "# Contar la frecuencia de cada tipo de evento\n",
    "eventos_frecuencia = df['event'].value_counts()\n",
    "\n",
    "# Mostrar los eventos ordenados por frecuencia\n",
    "print(\"Frecuencia de eventos en los registros:\")\n",
    "print(eventos_frecuencia)"
   ]
  },
  {
   "cell_type": "markdown",
   "metadata": {},
   "source": [
    "<div class=\"alert alert-block alert-success\">\n",
    "<b>Comentario del revisor (1ra Iteracion)</b> <a class=“tocSkip”></a>\n",
    "\n",
    "Muy bien analizado los diferentes eventos en los datos, por la cantidad de los mismos ya se puede notar el orden de estos, el paso de tutorial puede estar relacionado con algo que los usuarios deban aprender pero no siempre va a ser necesario pasar por este para continuar.\n",
    "</div>"
   ]
  },
  {
   "cell_type": "code",
   "execution_count": 130,
   "metadata": {},
   "outputs": [
    {
     "data": {
      "image/png": "[encoded data removed]",
      "text/plain": [
       "<Figure size 1200x600 with 1 Axes>"
      ]
     },
     "metadata": {},
     "output_type": "display_data"
    }
   ],
   "source": [
    "# Graficar distribución de eventos\n",
    "plt.figure(figsize=(12, 6))\n",
    "eventos_frecuencia.head(10).plot(kind='bar')\n",
    "plt.xlabel(\"Evento\")\n",
    "plt.ylabel(\"Frecuencia\")\n",
    "plt.title(\"Eventos más frecuentes\")\n",
    "plt.xticks(rotation=45)\n",
    "plt.show()"
   ]
  },
  {
   "cell_type": "markdown",
   "metadata": {},
   "source": [
    "Podemos ver que el evento con mas frecuencia es MainScreenAppear   "
   ]
  },
  {
   "cell_type": "code",
   "execution_count": 131,
   "metadata": {},
   "outputs": [
    {
     "name": "stdout",
     "output_type": "stream",
     "text": [
      "                         Usuarios únicos  Proporción\n",
      "event                                               \n",
      "MainScreenAppear                    7439    0.985168\n",
      "OffersScreenAppear                  4613    0.610912\n",
      "CartScreenAppear                    3749    0.496491\n",
      "PaymentScreenSuccessful             3547    0.469739\n",
      "Tutorial                             847    0.112171\n"
     ]
    }
   ],
   "source": [
    "#Encuentra la cantidad de usuarios que realizaron cada una de estas acciones. Ordena los eventos por el número de usuarios. Calcula la proporción de usuarios que realizaron la acción al menos una vez. \n",
    "# Contar la cantidad de usuarios únicos por evento\n",
    "usuarios_por_evento = df.groupby('event')['user_id'].nunique()\n",
    "\n",
    "# Ordenar eventos por cantidad de usuarios únicos\n",
    "usuarios_por_evento = usuarios_por_evento.sort_values(ascending=False)\n",
    "\n",
    "# Calcular la proporción de usuarios que realizaron cada evento al menos una vez\n",
    "total_usuarios = df['user_id'].nunique()\n",
    "proporcion_usuarios = usuarios_por_evento / total_usuarios\n",
    "\n",
    "# Mostrar resultados\n",
    "resultados = pd.DataFrame({\n",
    "    'Usuarios únicos': usuarios_por_evento,\n",
    "    'Proporción': proporcion_usuarios\n",
    "})\n",
    "\n",
    "print(resultados)"
   ]
  },
  {
   "cell_type": "code",
   "execution_count": 132,
   "metadata": {},
   "outputs": [
    {
     "data": {
      "image/png": "[encoded data removed]",
      "text/plain": [
       "<Figure size 1200x600 with 1 Axes>"
      ]
     },
     "metadata": {},
     "output_type": "display_data"
    },
    {
     "data": {
      "image/png": "[encoded data removed]",
      "text/plain": [
       "<Figure size 1200x600 with 1 Axes>"
      ]
     },
     "metadata": {},
     "output_type": "display_data"
    }
   ],
   "source": [
    "# Configurar la figura\n",
    "plt.figure(figsize=(12, 6))\n",
    "\n",
    "# Graficar los usuarios únicos por evento\n",
    "resultados['Usuarios únicos'].plot(kind='bar', color='skyblue', alpha=0.8)\n",
    "\n",
    "# Etiquetas y título\n",
    "plt.xlabel(\"Evento\")\n",
    "plt.ylabel(\"Cantidad de usuarios únicos\")\n",
    "plt.title(\"Cantidad de usuarios que realizaron cada evento\")\n",
    "plt.xticks(rotation=45)\n",
    "plt.show()\n",
    "\n",
    "# Graficar la proporción de usuarios que realizaron cada evento\n",
    "plt.figure(figsize=(12, 6))\n",
    "resultados['Proporción'].plot(kind='bar', color='salmon', alpha=0.8)\n",
    "\n",
    "plt.xlabel(\"Evento\")\n",
    "plt.ylabel(\"Proporción de usuarios\")\n",
    "plt.title(\"Proporción de usuarios que realizaron cada evento al menos una vez\")\n",
    "plt.xticks(rotation=45)\n",
    "plt.show()"
   ]
  },
  {
   "cell_type": "markdown",
   "metadata": {},
   "source": [
    "permite visualizar qué eventos son los más utilizados y qué tan común es su ejecución entre los usuarios.\n",
    "Vemos que el evento MainScreenAppear  es el de mas fuerza y lo han realizado al menos una vez con mayor frecuencia "
   ]
  },
  {
   "cell_type": "markdown",
   "metadata": {},
   "source": [
    "<div class=\"alert alert-block alert-success\">\n",
    "<b>Comentario del revisor (1ra Iteracion)</b> <a class=“tocSkip”></a>\n",
    "\n",
    "Correcto, con la gráfica se puede observar mejor el orden del embudo a seguir\n",
    "</div>"
   ]
  },
  {
   "cell_type": "markdown",
   "metadata": {},
   "source": [
    "¿En qué orden crees que ocurrieron las acciones? ¿Todas son parte de una sola secuencia? No es necesario tenerlas en cuenta al calcular el embudo."
   ]
  },
  {
   "cell_type": "code",
   "execution_count": 133,
   "metadata": {},
   "outputs": [
    {
     "name": "stdout",
     "output_type": "stream",
     "text": [
      "                 user_id   timestamp                    event\n",
      "197263  6888746892508752  1565100394         MainScreenAppear\n",
      "209196  6909561520679493  1565117574         MainScreenAppear\n",
      "209199  6909561520679493  1565117578  PaymentScreenSuccessful\n",
      "209200  6909561520679493  1565117578         CartScreenAppear\n",
      "209201  6909561520679493  1565117578         MainScreenAppear\n",
      "209210  6909561520679493  1565117584       OffersScreenAppear\n",
      "127670  6922444491712477  1564928373         MainScreenAppear\n",
      "127672  6922444491712477  1564928380  PaymentScreenSuccessful\n",
      "127673  6922444491712477  1564928380         CartScreenAppear\n",
      "127674  6922444491712477  1564928380         MainScreenAppear\n",
      "127675  6922444491712477  1564928386       OffersScreenAppear\n",
      "134267  6922444491712477  1564938988         MainScreenAppear\n",
      "134273  6922444491712477  1564938992  PaymentScreenSuccessful\n",
      "134274  6922444491712477  1564938993         MainScreenAppear\n",
      "134275  6922444491712477  1564938993         CartScreenAppear\n",
      "134281  6922444491712477  1564939004       OffersScreenAppear\n",
      "158372  6922444491712477  1565010434         MainScreenAppear\n",
      "158415  6922444491712477  1565010469       OffersScreenAppear\n",
      "158446  6922444491712477  1565010517       OffersScreenAppear\n",
      "158579  6922444491712477  1565010658         MainScreenAppear\n"
     ]
    }
   ],
   "source": [
    "# Ordenar los eventos por usuario y marca de tiempo\n",
    "df_sorted = df.sort_values(by=['user_id', 'timestamp'])\n",
    "\n",
    "# Verificar la secuencia de eventos\n",
    "print(df_sorted[['user_id', 'timestamp', 'event']].head(20))"
   ]
  },
  {
   "cell_type": "markdown",
   "metadata": {},
   "source": [
    "Esto nos permite observar el orden en que cada usuario realiza sus acciones."
   ]
  },
  {
   "cell_type": "code",
   "execution_count": 134,
   "metadata": {},
   "outputs": [
    {
     "name": "stdout",
     "output_type": "stream",
     "text": [
      "count    7551.000000\n",
      "mean        2.674480\n",
      "std         1.454287\n",
      "min         1.000000\n",
      "25%         1.000000\n",
      "50%         3.000000\n",
      "75%         4.000000\n",
      "max         5.000000\n",
      "Name: event, dtype: float64\n"
     ]
    }
   ],
   "source": [
    "# Contar cuántos usuarios ejecutaron múltiples eventos en orden cronológico\n",
    "eventos_por_usuario = df.groupby('user_id')['event'].nunique()\n",
    "\n",
    "# Analizar la variabilidad de secuencias\n",
    "print(eventos_por_usuario.describe())  # Estadísticas sobre la diversidad de eventos por usuario"
   ]
  },
  {
   "cell_type": "markdown",
   "metadata": {},
   "source": [
    "Utiliza el embudo de eventos para encontrar la proporción de usuarios que pasan de una etapa a la siguiente. Por ejemplo, para la secuencia de eventos A → B → C, calcula la proporción de usuarios en la etapa B a la cantidad de usuarios en la etapa A y la proporción de usuarios en la etapa C a la cantidad en la etapa B.\n"
   ]
  },
  {
   "cell_type": "code",
   "execution_count": 135,
   "metadata": {},
   "outputs": [
    {
     "data": {
      "text/plain": [
       "event\n",
       "MainScreenAppear           7439\n",
       "OffersScreenAppear         4613\n",
       "CartScreenAppear           3749\n",
       "PaymentScreenSuccessful    3547\n",
       "Name: user_id, dtype: int64"
      ]
     },
     "metadata": {},
     "output_type": "display_data"
    },
    {
     "data": {
      "text/html": [
       "<div>\n",
       "<style scoped>\n",
       "    .dataframe tbody tr th:only-of-type {\n",
       "        vertical-align: middle;\n",
       "    }\n",
       "\n",
       "    .dataframe tbody tr th {\n",
       "        vertical-align: top;\n",
       "    }\n",
       "\n",
       "    .dataframe thead th {\n",
       "        text-align: right;\n",
       "    }\n",
       "</style>\n",
       "<table border=\"1\" class=\"dataframe\">\n",
       "  <thead>\n",
       "    <tr style=\"text-align: right;\">\n",
       "      <th></th>\n",
       "      <th>usuarios</th>\n",
       "      <th>retencion</th>\n",
       "      <th>conv_acum</th>\n",
       "    </tr>\n",
       "    <tr>\n",
       "      <th>event</th>\n",
       "      <th></th>\n",
       "      <th></th>\n",
       "      <th></th>\n",
       "    </tr>\n",
       "  </thead>\n",
       "  <tbody>\n",
       "    <tr>\n",
       "      <th>MainScreenAppear</th>\n",
       "      <td>7439</td>\n",
       "      <td>1.000000</td>\n",
       "      <td>1.000000</td>\n",
       "    </tr>\n",
       "    <tr>\n",
       "      <th>OffersScreenAppear</th>\n",
       "      <td>4613</td>\n",
       "      <td>0.620110</td>\n",
       "      <td>0.620110</td>\n",
       "    </tr>\n",
       "    <tr>\n",
       "      <th>CartScreenAppear</th>\n",
       "      <td>3749</td>\n",
       "      <td>0.812703</td>\n",
       "      <td>0.503966</td>\n",
       "    </tr>\n",
       "    <tr>\n",
       "      <th>PaymentScreenSuccessful</th>\n",
       "      <td>3547</td>\n",
       "      <td>0.946119</td>\n",
       "      <td>0.476811</td>\n",
       "    </tr>\n",
       "  </tbody>\n",
       "</table>\n",
       "</div>"
      ],
      "text/plain": [
       "                         usuarios  retencion  conv_acum\n",
       "event                                                  \n",
       "MainScreenAppear             7439   1.000000   1.000000\n",
       "OffersScreenAppear           4613   0.620110   0.620110\n",
       "CartScreenAppear             3749   0.812703   0.503966\n",
       "PaymentScreenSuccessful      3547   0.946119   0.476811"
      ]
     },
     "metadata": {},
     "output_type": "display_data"
    }
   ],
   "source": [
    "funnel = ['MainScreenAppear','OffersScreenAppear','CartScreenAppear','PaymentScreenSuccessful']\n",
    "\n",
    "users_evt = filtered.groupby('event')['user_id'].nunique().loc[funnel]\n",
    "display(users_evt)\n",
    "\n",
    "retention = users_evt / users_evt.shift(1)\n",
    "retention.iloc[0] = 1.0\n",
    "cum_conv = users_evt / users_evt.iloc[0]\n",
    "\n",
    "funnel_df = pd.DataFrame({'usuarios':users_evt,\n",
    "                          'retencion':retention,\n",
    "                          'conv_acum':cum_conv})\n",
    "display(funnel_df)\n"
   ]
  },
  {
   "cell_type": "code",
   "execution_count": 136,
   "metadata": {},
   "outputs": [
    {
     "name": "stdout",
     "output_type": "stream",
     "text": [
      "Mayor drop entre: OffersScreenAppear\n",
      "Conversión total a pago: 47.68%\n"
     ]
    }
   ],
   "source": [
    "#¿En qué etapa pierdes más usuarios? \n",
    "print(\"Mayor drop entre:\", retention[1:].idxmin())\n",
    "print(\"Conversión total a pago:\", f\"{cum_conv.iloc[-1]:.2%}\")\n"
   ]
  },
  {
   "cell_type": "markdown",
   "metadata": {},
   "source": [
    "## Paso 5. Estudiar los resultados del experimento A/A/B"
   ]
  },
  {
   "cell_type": "code",
   "execution_count": 137,
   "metadata": {},
   "outputs": [
    {
     "name": "stdout",
     "output_type": "stream",
     "text": [
      "Usuarios por grupo:\n",
      "246: 2,489\n",
      "247: 2,520\n",
      "248: 2,542\n"
     ]
    }
   ],
   "source": [
    "#¿Cuántos usuarios hay en cada grupo?\n",
    "#Contar usuarios únicos en cada grupo experimental\n",
    "groups = [246, 247, 248]\n",
    "print(\"Usuarios por grupo:\")\n",
    "for g in groups:\n",
    "    print(f\"{g}: {filtered[filtered['exp_id']==g]['user_id'].nunique():,}\")\n",
    "\n",
    "events = filtered['event'].unique()"
   ]
  },
  {
   "cell_type": "code",
   "execution_count": 138,
   "metadata": {},
   "outputs": [
    {
     "name": "stdout",
     "output_type": "stream",
     "text": [
      "False 0.5856639791209877\n",
      "False 0.19817540651836918\n",
      "False 0.3233225048227193\n",
      "False 0.10902546202332887\n",
      "False 0.8756574258016974\n"
     ]
    }
   ],
   "source": [
    "# Test A/A\n",
    "aa = []\n",
    "for ev in events:\n",
    "    s1, t1 = (filtered[(filtered['exp_id']==246)&(filtered['event']==ev)]['user_id'].nunique(),\n",
    "              filtered[filtered['exp_id']==246]['user_id'].nunique())\n",
    "    s2, t2 = (filtered[(filtered['exp_id']==247)&(filtered['event']==ev)]['user_id'].nunique(),\n",
    "              filtered[filtered['exp_id']==247]['user_id'].nunique())\n",
    "    sig, p = proportion_test(s1,t1,s2,t2)\n",
    "    print(sig, p)"
   ]
  },
  {
   "cell_type": "code",
   "execution_count": 139,
   "metadata": {},
   "outputs": [
    {
     "data": {
      "text/html": [
       "<div>\n",
       "<style scoped>\n",
       "    .dataframe tbody tr th:only-of-type {\n",
       "        vertical-align: middle;\n",
       "    }\n",
       "\n",
       "    .dataframe tbody tr th {\n",
       "        vertical-align: top;\n",
       "    }\n",
       "\n",
       "    .dataframe thead th {\n",
       "        text-align: right;\n",
       "    }\n",
       "</style>\n",
       "<table border=\"1\" class=\"dataframe\">\n",
       "  <thead>\n",
       "    <tr style=\"text-align: right;\">\n",
       "      <th></th>\n",
       "      <th>event</th>\n",
       "      <th>p</th>\n",
       "      <th>sig</th>\n",
       "    </tr>\n",
       "  </thead>\n",
       "  <tbody>\n",
       "    <tr>\n",
       "      <th>3</th>\n",
       "      <td>PaymentScreenSuccessful</td>\n",
       "      <td>0.109025</td>\n",
       "      <td>False</td>\n",
       "    </tr>\n",
       "    <tr>\n",
       "      <th>1</th>\n",
       "      <td>CartScreenAppear</td>\n",
       "      <td>0.198175</td>\n",
       "      <td>False</td>\n",
       "    </tr>\n",
       "    <tr>\n",
       "      <th>2</th>\n",
       "      <td>OffersScreenAppear</td>\n",
       "      <td>0.323323</td>\n",
       "      <td>False</td>\n",
       "    </tr>\n",
       "    <tr>\n",
       "      <th>0</th>\n",
       "      <td>MainScreenAppear</td>\n",
       "      <td>0.585664</td>\n",
       "      <td>False</td>\n",
       "    </tr>\n",
       "    <tr>\n",
       "      <th>4</th>\n",
       "      <td>Tutorial</td>\n",
       "      <td>0.875657</td>\n",
       "      <td>False</td>\n",
       "    </tr>\n",
       "  </tbody>\n",
       "</table>\n",
       "</div>"
      ],
      "text/plain": [
       "                     event         p    sig\n",
       "3  PaymentScreenSuccessful  0.109025  False\n",
       "1         CartScreenAppear  0.198175  False\n",
       "2       OffersScreenAppear  0.323323  False\n",
       "0         MainScreenAppear  0.585664  False\n",
       "4                 Tutorial  0.875657  False"
      ]
     },
     "metadata": {},
     "output_type": "display_data"
    }
   ],
   "source": [
    "aa = []\n",
    "for ev in events:\n",
    "    s1, t1 = (filtered[(filtered['exp_id']==246)&(filtered['event']==ev)]['user_id'].nunique(),\n",
    "              filtered[filtered['exp_id']==246]['user_id'].nunique())\n",
    "    s2, t2 = (filtered[(filtered['exp_id']==247)&(filtered['event']==ev)]['user_id'].nunique(),\n",
    "              filtered[filtered['exp_id']==247]['user_id'].nunique())\n",
    "    sig, p = proportion_test(s1,t1,s2,t2)\n",
    "    aa.append((ev,p,sig))\n",
    "aa_df = pd.DataFrame(aa, columns=['event','p','sig']).sort_values('p')\n",
    "display(aa_df.head())"
   ]
  },
  {
   "cell_type": "markdown",
   "metadata": {},
   "source": [
    "Lo que indica es que la proporcion (p) no es significativa entre  el 246 y 247 "
   ]
  },
  {
   "cell_type": "markdown",
   "metadata": {},
   "source": [
    "<div class=\"alert alert-block alert-success\">\n",
    "<b>Comentario del revisor (1ra Iteracion)</b> <a class=“tocSkip”></a>\n",
    "\n",
    "Perfecto! Revisar si hay diferencias en cada etapa del embudo puede indicar en que punto sucedió algo que alterara o no el comportamiento de los usuarios\n",
    "</div>"
   ]
  },
  {
   "cell_type": "code",
   "execution_count": 140,
   "metadata": {},
   "outputs": [
    {
     "name": "stdout",
     "output_type": "stream",
     "text": [
      "Estadístico t: 0.7436\n",
      "Valor p: 0.4572\n"
     ]
    }
   ],
   "source": [
    "# Filtrar los dos grupos de control\n",
    "df_control = df[df['exp_id'].isin([246, 247])]\n",
    "\n",
    "# Contar eventos por usuario en cada grupo\n",
    "eventos_por_usuario = df_control.groupby(['exp_id', 'user_id'])['event'].count().reset_index()\n",
    "\n",
    "# Separar los grupos\n",
    "grupo_246 = eventos_por_usuario[eventos_por_usuario['exp_id'] == 246]['event']\n",
    "grupo_247 = eventos_por_usuario[eventos_por_usuario['exp_id'] == 247]['event']\n",
    "\n",
    "# Prueba t de Student para evaluar diferencias significativas\n",
    "t_stat, p_value = stats.ttest_ind(grupo_246, grupo_247, equal_var=False)\n",
    "\n",
    "print(f\"Estadístico t: {t_stat:.4f}\")\n",
    "print(f\"Valor p: {p_value:.4f}\")"
   ]
  },
  {
   "cell_type": "markdown",
   "metadata": {},
   "source": [
    "Si p_value < 0.05, hay diferencias significativas entre los grupos de control, lo que podría indicar que algo inesperado está afectando los resultados.\n",
    "\n",
    "Si p_value >= 0.05, los grupos son estadísticamente similares, lo que confirma la validez del experimento."
   ]
  },
  {
   "cell_type": "code",
   "execution_count": 141,
   "metadata": {},
   "outputs": [
    {
     "name": "stdout",
     "output_type": "stream",
     "text": [
      "El evento más popular es: MainScreenAppear\n"
     ]
    }
   ],
   "source": [
    "# Encontrar el evento más frecuente\n",
    "evento_mas_popular = df['event'].value_counts().idxmax()\n",
    "\n",
    "print(f\"El evento más popular es: {evento_mas_popular}\")"
   ]
  },
  {
   "cell_type": "code",
   "execution_count": 142,
   "metadata": {},
   "outputs": [
    {
     "name": "stdout",
     "output_type": "stream",
     "text": [
      "        Usuarios únicos  Proporción\n",
      "exp_id                             \n",
      "246                2456    0.986742\n",
      "247                2482    0.984921\n",
      "248                2501    0.983871\n"
     ]
    }
   ],
   "source": [
    "# Contar cuántos usuarios realizaron el evento más popular en cada grupo\n",
    "usuarios_por_evento = df[df['event'] == evento_mas_popular].groupby('exp_id')['user_id'].nunique()\n",
    "\n",
    "# Calcular la proporción respecto al total de usuarios de cada grupo\n",
    "total_usuarios_grupo = df.groupby('exp_id')['user_id'].nunique()\n",
    "proporcion_evento = usuarios_por_evento / total_usuarios_grupo\n",
    "\n",
    "# Mostrar resultados\n",
    "resultados = pd.DataFrame({\n",
    "    'Usuarios únicos': usuarios_por_evento,\n",
    "    'Proporción': proporcion_evento\n",
    "})\n",
    "\n",
    "print(resultados)"
   ]
  },
  {
   "cell_type": "code",
   "execution_count": 143,
   "metadata": {},
   "outputs": [
    {
     "name": "stdout",
     "output_type": "stream",
     "text": [
      "Valor p: 0.6704\n",
      "No hay diferencias significativas entre los grupos de control.\n"
     ]
    }
   ],
   "source": [
    "# Comparar la cantidad de usuarios que realizaron la acción en los grupos 246 y 247\n",
    "grupo_246 = df[(df['exp_id'] == 246) & (df['event'] == evento_mas_popular)]['user_id'].nunique()\n",
    "grupo_247 = df[(df['exp_id'] == 247) & (df['event'] == evento_mas_popular)]['user_id'].nunique()\n",
    "\n",
    "# Prueba chi-cuadrado para comparar proporciones entre los grupos\n",
    "tabla_contingencia = [[grupo_246, total_usuarios_grupo[246] - grupo_246],\n",
    "                      [grupo_247, total_usuarios_grupo[247] - grupo_247]]\n",
    "\n",
    "chi2_stat, p_value, _, _ = stats.chi2_contingency(tabla_contingencia)\n",
    "\n",
    "print(f\"Valor p: {p_value:.4f}\")\n",
    "\n",
    "# Interpretación\n",
    "if p_value < 0.05:\n",
    "    print(\"Existe una diferencia significativa entre los grupos de control.\")\n",
    "else:\n",
    "    print(\"No hay diferencias significativas entre los grupos de control.\")"
   ]
  },
  {
   "cell_type": "code",
   "execution_count": 144,
   "metadata": {},
   "outputs": [
    {
     "data": {
      "text/html": [
       "<div>\n",
       "<style scoped>\n",
       "    .dataframe tbody tr th:only-of-type {\n",
       "        vertical-align: middle;\n",
       "    }\n",
       "\n",
       "    .dataframe tbody tr th {\n",
       "        vertical-align: top;\n",
       "    }\n",
       "\n",
       "    .dataframe thead th {\n",
       "        text-align: right;\n",
       "    }\n",
       "</style>\n",
       "<table border=\"1\" class=\"dataframe\">\n",
       "  <thead>\n",
       "    <tr style=\"text-align: right;\">\n",
       "      <th></th>\n",
       "      <th>event</th>\n",
       "      <th>p</th>\n",
       "      <th>sig</th>\n",
       "    </tr>\n",
       "  </thead>\n",
       "  <tbody>\n",
       "    <tr>\n",
       "      <th>1</th>\n",
       "      <td>CartScreenAppear</td>\n",
       "      <td>0.260981</td>\n",
       "      <td>False</td>\n",
       "    </tr>\n",
       "    <tr>\n",
       "      <th>2</th>\n",
       "      <td>OffersScreenAppear</td>\n",
       "      <td>0.455540</td>\n",
       "      <td>False</td>\n",
       "    </tr>\n",
       "    <tr>\n",
       "      <th>0</th>\n",
       "      <td>MainScreenAppear</td>\n",
       "      <td>0.506713</td>\n",
       "      <td>False</td>\n",
       "    </tr>\n",
       "    <tr>\n",
       "      <th>3</th>\n",
       "      <td>PaymentScreenSuccessful</td>\n",
       "      <td>0.657843</td>\n",
       "      <td>False</td>\n",
       "    </tr>\n",
       "    <tr>\n",
       "      <th>4</th>\n",
       "      <td>Tutorial</td>\n",
       "      <td>0.808687</td>\n",
       "      <td>False</td>\n",
       "    </tr>\n",
       "  </tbody>\n",
       "</table>\n",
       "</div>"
      ],
      "text/plain": [
       "                     event         p    sig\n",
       "1         CartScreenAppear  0.260981  False\n",
       "2       OffersScreenAppear  0.455540  False\n",
       "0         MainScreenAppear  0.506713  False\n",
       "3  PaymentScreenSuccessful  0.657843  False\n",
       "4                 Tutorial  0.808687  False"
      ]
     },
     "metadata": {},
     "output_type": "display_data"
    }
   ],
   "source": [
    "# Test control combinado vs grupo 248\n",
    "ctrl_users = filtered[filtered['exp_id'].isin([246,247])]['user_id'].nunique()\n",
    "test_results=[]\n",
    "for ev in events:\n",
    "    s_ctrl = filtered[(filtered['exp_id'].isin([246,247]))&(filtered['event']==ev)]['user_id'].nunique()\n",
    "    s_test,t_test = (filtered[(filtered['exp_id']==248)&(filtered['event']==ev)]['user_id'].nunique(),\n",
    "                     filtered[filtered['exp_id']==248]['user_id'].nunique())\n",
    "    sig,p = proportion_test(s_ctrl,ctrl_users,s_test,t_test)\n",
    "    test_results.append((ev,p,sig))\n",
    "test_df = pd.DataFrame(test_results, columns=['event','p','sig']).sort_values('p')\n",
    "display(test_df.head())"
   ]
  },
  {
   "cell_type": "markdown",
   "metadata": {},
   "source": [
    "No es significativa la proporcion haciendo lo mismo pero con el 248"
   ]
  },
  {
   "cell_type": "code",
   "execution_count": 145,
   "metadata": {},
   "outputs": [
    {
     "name": "stdout",
     "output_type": "stream",
     "text": [
      "Nivel Bonferroni: 0.01\n",
      "Eventos con diferencia significativa (post‑Bonferroni):\n"
     ]
    },
    {
     "data": {
      "text/html": [
       "<div>\n",
       "<style scoped>\n",
       "    .dataframe tbody tr th:only-of-type {\n",
       "        vertical-align: middle;\n",
       "    }\n",
       "\n",
       "    .dataframe tbody tr th {\n",
       "        vertical-align: top;\n",
       "    }\n",
       "\n",
       "    .dataframe thead th {\n",
       "        text-align: right;\n",
       "    }\n",
       "</style>\n",
       "<table border=\"1\" class=\"dataframe\">\n",
       "  <thead>\n",
       "    <tr style=\"text-align: right;\">\n",
       "      <th></th>\n",
       "      <th>event</th>\n",
       "      <th>p</th>\n",
       "      <th>sig</th>\n",
       "    </tr>\n",
       "  </thead>\n",
       "  <tbody>\n",
       "  </tbody>\n",
       "</table>\n",
       "</div>"
      ],
      "text/plain": [
       "Empty DataFrame\n",
       "Columns: [event, p, sig]\n",
       "Index: []"
      ]
     },
     "metadata": {},
     "output_type": "display_data"
    }
   ],
   "source": [
    "#Bonferroni\n",
    "alpha=0.05\n",
    "alpha_bonf = alpha/len(events)\n",
    "sig_events = test_df[test_df['p']<alpha_bonf]\n",
    "print(\"Nivel Bonferroni:\", alpha_bonf)\n",
    "print(\"Eventos con diferencia significativa (post‑Bonferroni):\")\n",
    "display(sig_events)"
   ]
  },
  {
   "cell_type": "markdown",
   "metadata": {},
   "source": [
    "Si después de la corrección aún hay eventos con valores p menores que alpha significa que hay diferencias reales y no son producto del azar. Si ningún evento es significativo tras la corrección, es posible que las diferencias observadas inicialmente fueran solo ruido estadístico.\n",
    "No es sigificativa para este caso segun el modelo Bonferroni"
   ]
  },
  {
   "cell_type": "markdown",
   "metadata": {},
   "source": [
    "Análisis general para el experimento A/A/B\n",
    "Para evaluar si los grupos de control fueron divididos correctamente:\n",
    "\n",
    "Se puede usar α = 0.05 para una evaluación confiable, evitando falsos positivos.\n",
    "\n",
    "Si se aplican múltiples comparaciones (como en el análisis de cada evento), se recomienda la corrección de Bonferroni para ajustar α y reducir el riesgo de errores.\n",
    "\n",
    "A nivel general la prue mostro resultados no significativos entre los grupos 246,247 y 248 "
   ]
  },
  {
   "cell_type": "markdown",
   "metadata": {},
   "source": [
    "<div class=\"alert alert-block alert-success\">\n",
    "<b>Comentario general (1ra Iteracion)</b> <a class=“tocSkip”></a>\n",
    "\n",
    "Te felicito Roberto! Realizaste un muy buen análisis de los grupos de tratamiento entre los cambios obtenidos entre uno y otro respecto al funnel que el usuario debe seguir, tus conclusiones son muy acertadas y siempre argumentadas con los datos obtenidos a partir de tus cálculos. \n",
    "    \n",
    "No cabe duda que vas por excelente camino para convertirte en Data Analyst, saludos!\n",
    "</div>"
   ]
  }
 ],
 "metadata": {
  "kernelspec": {
   "display_name": "Python 3 (ipykernel)",
   "language": "python",
   "name": "python3"
  },
  "language_info": {
   "codemirror_mode": {
    "name": "ipython",
    "version": 3
   },
   "file_extension": ".py",
   "mimetype": "text/x-python",
   "name": "python",
   "nbconvert_exporter": "python",
   "pygments_lexer": "ipython3",
   "version": "3.9.22"
  }
 },
 "nbformat": 4,
 "nbformat_minor": 4
}
